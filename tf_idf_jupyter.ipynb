{
 "cells": [
  {
   "cell_type": "code",
   "execution_count": 75,
   "metadata": {},
   "outputs": [],
   "source": [
    "from kiwipiepy import Kiwi\n",
    "from kiwipiepy.utils import Stopwords\n",
    "import pandas as pd\n",
    "from math import log\n",
    "import openpyxl"
   ]
  },
  {
   "cell_type": "code",
   "execution_count": 71,
   "metadata": {},
   "outputs": [],
   "source": [
    "corpers = pd.read_excel(\"/Users/seojeongrok/Desktop/코퍼스.xlsx\")"
   ]
  },
  {
   "cell_type": "code",
   "execution_count": 72,
   "metadata": {},
   "outputs": [
    {
     "data": {
      "text/html": [
       "<div>\n",
       "<style scoped>\n",
       "    .dataframe tbody tr th:only-of-type {\n",
       "        vertical-align: middle;\n",
       "    }\n",
       "\n",
       "    .dataframe tbody tr th {\n",
       "        vertical-align: top;\n",
       "    }\n",
       "\n",
       "    .dataframe thead th {\n",
       "        text-align: right;\n",
       "    }\n",
       "</style>\n",
       "<table border=\"1\" class=\"dataframe\">\n",
       "  <thead>\n",
       "    <tr style=\"text-align: right;\">\n",
       "      <th></th>\n",
       "      <th>발화의 목적</th>\n",
       "      <th>발화 형식</th>\n",
       "      <th>다양한 발화 형식의 형태 변화</th>\n",
       "    </tr>\n",
       "  </thead>\n",
       "  <tbody>\n",
       "    <tr>\n",
       "      <th>0</th>\n",
       "      <td>인사</td>\n",
       "      <td>반가워</td>\n",
       "      <td>안녕 안녕하세요 반갑다 반가워요 반갑습니다 좋은 아침 반갑</td>\n",
       "    </tr>\n",
       "    <tr>\n",
       "      <th>1</th>\n",
       "      <td>예약</td>\n",
       "      <td>으로 예약 할래</td>\n",
       "      <td>NaN</td>\n",
       "    </tr>\n",
       "    <tr>\n",
       "      <th>2</th>\n",
       "      <td>~ 예약</td>\n",
       "      <td>바꿀, 거야</td>\n",
       "      <td>NaN</td>\n",
       "    </tr>\n",
       "    <tr>\n",
       "      <th>3</th>\n",
       "      <td>예약 수정</td>\n",
       "      <td>바꿔줘</td>\n",
       "      <td>NaN</td>\n",
       "    </tr>\n",
       "    <tr>\n",
       "      <th>4</th>\n",
       "      <td>예약 가능성</td>\n",
       "      <td>별로야, 다른 건?</td>\n",
       "      <td>NaN</td>\n",
       "    </tr>\n",
       "    <tr>\n",
       "      <th>5</th>\n",
       "      <td>추가 변경 거부</td>\n",
       "      <td>아니</td>\n",
       "      <td>NaN</td>\n",
       "    </tr>\n",
       "    <tr>\n",
       "      <th>6</th>\n",
       "      <td>예약 확정</td>\n",
       "      <td>좋아, 훌륭해, 마음에 들어, 완벽해</td>\n",
       "      <td>NaN</td>\n",
       "    </tr>\n",
       "    <tr>\n",
       "      <th>7</th>\n",
       "      <td>식당 장소 확인</td>\n",
       "      <td>주소</td>\n",
       "      <td>NaN</td>\n",
       "    </tr>\n",
       "    <tr>\n",
       "      <th>8</th>\n",
       "      <td>식당 연락처 확인</td>\n",
       "      <td>연락처</td>\n",
       "      <td>NaN</td>\n",
       "    </tr>\n",
       "    <tr>\n",
       "      <th>9</th>\n",
       "      <td>감사 인사</td>\n",
       "      <td>고마워, 감사</td>\n",
       "      <td>NaN</td>\n",
       "    </tr>\n",
       "    <tr>\n",
       "      <th>10</th>\n",
       "      <td>추가 도움 거부</td>\n",
       "      <td>아니</td>\n",
       "      <td>NaN</td>\n",
       "    </tr>\n",
       "  </tbody>\n",
       "</table>\n",
       "</div>"
      ],
      "text/plain": [
       "       발화의 목적                 발화 형식                  다양한 발화 형식의 형태 변화\n",
       "0          인사                   반가워  안녕 안녕하세요 반갑다 반가워요 반갑습니다 좋은 아침 반갑\n",
       "1          예약              으로 예약 할래                               NaN\n",
       "2        ~ 예약                바꿀, 거야                               NaN\n",
       "3       예약 수정                   바꿔줘                               NaN\n",
       "4      예약 가능성            별로야, 다른 건?                               NaN\n",
       "5    추가 변경 거부                    아니                               NaN\n",
       "6       예약 확정  좋아, 훌륭해, 마음에 들어, 완벽해                               NaN\n",
       "7    식당 장소 확인                    주소                               NaN\n",
       "8   식당 연락처 확인                   연락처                               NaN\n",
       "9       감사 인사               고마워, 감사                               NaN\n",
       "10   추가 도움 거부                    아니                               NaN"
      ]
     },
     "execution_count": 72,
     "metadata": {},
     "output_type": "execute_result"
    }
   ],
   "source": [
    "corpers"
   ]
  },
  {
   "cell_type": "code",
   "execution_count": 73,
   "metadata": {},
   "outputs": [
    {
     "data": {
      "text/plain": [
       "'안녕 안녕하세요 반갑다 반가워요 반갑습니다 좋은 아침 반갑'"
      ]
     },
     "execution_count": 73,
     "metadata": {},
     "output_type": "execute_result"
    }
   ],
   "source": [
    "corpers[\"다양한 발화 형식의 형태 변화\"][0]"
   ]
  },
  {
   "cell_type": "code",
   "execution_count": 76,
   "metadata": {},
   "outputs": [],
   "source": [
    "Stopwords = Stopwords()\n",
    "# kiwi 객체 생성\n",
    "kiwi = Kiwi(num_workers=2, load_default_dict=True, integrate_allomorph=True, model_type='sbg')"
   ]
  },
  {
   "cell_type": "code",
   "execution_count": 86,
   "metadata": {},
   "outputs": [],
   "source": [
    "docs = [\n",
    "    \"안녕 난 유방암에 걸린 서정록이야\",\n",
    "    \"반가워 난 폐암에 걸린 서정록\"\n",
    "]"
   ]
  },
  {
   "cell_type": "code",
   "execution_count": 87,
   "metadata": {},
   "outputs": [
    {
     "name": "stdout",
     "output_type": "stream",
     "text": [
      "{'록', '유방암', '서정', '이', 'ᆫ', '나', '폐암', '에', '인사', '걸리'}\n"
     ]
    }
   ],
   "source": [
    "vocab = set()\n",
    "\n",
    "for i in range(len(docs)):\n",
    "    tokens = kiwi.tokenize(docs[i])\n",
    "    for j in range(len(tokens)):\n",
    "        if tokens[j].tag.startswith(\"E\"):\n",
    "            pass\n",
    "        else:\n",
    "            if tokens[j].form in corpers[\"다양한 발화 형식의 형태 변화\"][0]:\n",
    "                vocab.add(corpers[\"발화의 목적\"][0])\n",
    "            else:\n",
    "                vocab.add(tokens[j].form)\n",
    "\n",
    "setvocab = list(vocab)\n",
    "print(vocab)"
   ]
  },
  {
   "cell_type": "code",
   "execution_count": 88,
   "metadata": {},
   "outputs": [
    {
     "name": "stdout",
     "output_type": "stream",
     "text": [
      "[('인사', '안녕'), '나', '유방암', '걸리', '서정', '록', '이']\n",
      "[('인사', '반갑'), '나', '폐암', '걸리', '서정', '록']\n"
     ]
    }
   ],
   "source": [
    "\n",
    "\n",
    "for i in range(len(docs)):\n",
    "    doc_token = []\n",
    "    tokens = kiwi.tokenize(docs[i])\n",
    "    for j in range(len(tokens)):\n",
    "        if tokens[j].tag.startswith(\"E\"):\n",
    "            pass\n",
    "        elif tokens[j].tag.startswith(\"J\"):\n",
    "            pass\n",
    "        else:\n",
    "            if tokens[j].form in corpers[\"다양한 발화 형식의 형태 변화\"][0]:\n",
    "                doc_token.append((corpers[\"발화의 목적\"][0], tokens[j].form))\n",
    "            else:\n",
    "                doc_token.append(tokens[j].form)\n",
    "            \n",
    "    print(doc_token)"
   ]
  },
  {
   "cell_type": "code",
   "execution_count": 85,
   "metadata": {},
   "outputs": [
    {
     "name": "stdout",
     "output_type": "stream",
     "text": [
      "['록', '유방암', ',', '서정', '이', 'ᆫ', '반갑', '나', '안녕', '폐암', '에', '인사', '걸리']\n"
     ]
    }
   ],
   "source": [
    "\n",
    "for i in range(len(docs)):\n",
    "    tokens = kiwi.tokenize(docs[i])\n",
    "    for j in range(len(tokens)):\n",
    "        if tokens[j].tag.startswith(\"J\"):\n",
    "            pass\n",
    "        elif tokens[j].tag.startswith(\"E\"):\n",
    "            pass\n",
    "        elif tokens[j].tag.startswith(\"S\"):\n",
    "            pass\n",
    "        else:\n",
    "            vocab.add(tokens[j].form)\n",
    "\n",
    "setvocab = list(vocab)\n",
    "print(setvocab)"
   ]
  },
  {
   "cell_type": "code",
   "execution_count": 25,
   "metadata": {},
   "outputs": [],
   "source": [
    "# 총 문서의 수\n",
    "N = len(docs)\n",
    "\n",
    "def tf(t, d):\n",
    "    return d.count(t)\n",
    "\n",
    "def idf(t):\n",
    "    df = 0\n",
    "    for doc in docs:\n",
    "        df += t in doc\n",
    "    return log(N/(df+1))\n",
    "\n",
    "def tfidf(t, d):\n",
    "    return tf(t, d) * idf(t)"
   ]
  },
  {
   "cell_type": "code",
   "execution_count": 26,
   "metadata": {},
   "outputs": [],
   "source": [
    "result = []\n",
    "\n",
    "\n",
    "for i in range(N):\n",
    "    result.append([])\n",
    "    d = docs[i]\n",
    "    for j in range(len(setvocab)):\n",
    "        t = setvocab[j]\n",
    "        result[-1].append(tf(t, d))\n",
    "\n",
    "tf_ = pd.DataFrame(result, columns=setvocab)"
   ]
  },
  {
   "cell_type": "code",
   "execution_count": 22,
   "metadata": {},
   "outputs": [
    {
     "data": {
      "text/html": [
       "<div>\n",
       "<style scoped>\n",
       "    .dataframe tbody tr th:only-of-type {\n",
       "        vertical-align: middle;\n",
       "    }\n",
       "\n",
       "    .dataframe tbody tr th {\n",
       "        vertical-align: top;\n",
       "    }\n",
       "\n",
       "    .dataframe thead th {\n",
       "        text-align: right;\n",
       "    }\n",
       "</style>\n",
       "<table border=\"1\" class=\"dataframe\">\n",
       "  <thead>\n",
       "    <tr style=\"text-align: right;\">\n",
       "      <th></th>\n",
       "      <th>유방암</th>\n",
       "      <th>의</th>\n",
       "      <th>1</th>\n",
       "      <th>이</th>\n",
       "      <th>요</th>\n",
       "      <th>?</th>\n",
       "      <th>이란</th>\n",
       "      <th>무엇</th>\n",
       "      <th>증상</th>\n",
       "      <th>원인</th>\n",
       "      <th>기</th>\n",
       "      <th>ᆫ가</th>\n",
       "      <th>은</th>\n",
       "    </tr>\n",
       "  </thead>\n",
       "  <tbody>\n",
       "    <tr>\n",
       "      <th>0</th>\n",
       "      <td>1</td>\n",
       "      <td>0</td>\n",
       "      <td>0</td>\n",
       "      <td>1</td>\n",
       "      <td>1</td>\n",
       "      <td>1</td>\n",
       "      <td>1</td>\n",
       "      <td>1</td>\n",
       "      <td>0</td>\n",
       "      <td>0</td>\n",
       "      <td>0</td>\n",
       "      <td>0</td>\n",
       "      <td>0</td>\n",
       "    </tr>\n",
       "    <tr>\n",
       "      <th>1</th>\n",
       "      <td>1</td>\n",
       "      <td>1</td>\n",
       "      <td>0</td>\n",
       "      <td>0</td>\n",
       "      <td>1</td>\n",
       "      <td>1</td>\n",
       "      <td>0</td>\n",
       "      <td>1</td>\n",
       "      <td>0</td>\n",
       "      <td>1</td>\n",
       "      <td>0</td>\n",
       "      <td>0</td>\n",
       "      <td>1</td>\n",
       "    </tr>\n",
       "    <tr>\n",
       "      <th>2</th>\n",
       "      <td>1</td>\n",
       "      <td>0</td>\n",
       "      <td>1</td>\n",
       "      <td>0</td>\n",
       "      <td>0</td>\n",
       "      <td>1</td>\n",
       "      <td>0</td>\n",
       "      <td>0</td>\n",
       "      <td>1</td>\n",
       "      <td>0</td>\n",
       "      <td>1</td>\n",
       "      <td>0</td>\n",
       "      <td>1</td>\n",
       "    </tr>\n",
       "  </tbody>\n",
       "</table>\n",
       "</div>"
      ],
      "text/plain": [
       "   유방암  의  1  이  요  ?  이란  무엇  증상  원인  기  ᆫ가  은\n",
       "0    1  0  0  1  1  1   1   1   0   0  0   0  0\n",
       "1    1  1  0  0  1  1   0   1   0   1  0   0  1\n",
       "2    1  0  1  0  0  1   0   0   1   0  1   0  1"
      ]
     },
     "execution_count": 22,
     "metadata": {},
     "output_type": "execute_result"
    }
   ],
   "source": [
    "tf_"
   ]
  },
  {
   "cell_type": "code",
   "execution_count": 21,
   "metadata": {},
   "outputs": [
    {
     "name": "stdout",
     "output_type": "stream",
     "text": [
      "<built-in function id>\n"
     ]
    }
   ],
   "source": [
    "result = []\n",
    "for j in range(len(setvocab)):\n",
    "    t = setvocab[j]\n",
    "    result.append(idf(t))\n",
    "\n",
    "idf_ = pd.DataFrame(result, index=setvocab, columns=[\"IDF\"])\n",
    "\n",
    "print(id)"
   ]
  },
  {
   "cell_type": "code",
   "execution_count": null,
   "metadata": {},
   "outputs": [],
   "source": []
  }
 ],
 "metadata": {
  "kernelspec": {
   "display_name": "sjr",
   "language": "python",
   "name": "python3"
  },
  "language_info": {
   "codemirror_mode": {
    "name": "ipython",
    "version": 3
   },
   "file_extension": ".py",
   "mimetype": "text/x-python",
   "name": "python",
   "nbconvert_exporter": "python",
   "pygments_lexer": "ipython3",
   "version": "3.8.16"
  },
  "orig_nbformat": 4
 },
 "nbformat": 4,
 "nbformat_minor": 2
}
