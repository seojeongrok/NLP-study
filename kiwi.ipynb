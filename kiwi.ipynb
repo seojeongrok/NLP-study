{
 "cells": [
  {
   "cell_type": "code",
   "execution_count": 1,
   "metadata": {},
   "outputs": [],
   "source": [
    "from kiwipiepy import Kiwi"
   ]
  },
  {
   "cell_type": "code",
   "execution_count": 13,
   "metadata": {},
   "outputs": [],
   "source": [
    "# kiwi 객체 생성\n",
    "kiwi = Kiwi(num_workers=2, load_default_dict=True, integrate_allomorph=True, model_type='sbg')"
   ]
  },
  {
   "cell_type": "code",
   "execution_count": 14,
   "metadata": {},
   "outputs": [],
   "source": [
    "# normalize_coda = 받침때문에 분석이 깨지는 경우 방지\n",
    "kiwi.tokenize(\"안녕하세요 형태소 분석기 키위입니다.\")\n",
    "\n",
    "# 불용어\n",
    "from kiwipiepy.utils import Stopwords\n",
    "Stopwords = Stopwords()"
   ]
  },
  {
   "cell_type": "code",
   "execution_count": 18,
   "metadata": {},
   "outputs": [],
   "source": [
    "# 잘라보기\n",
    "tokens = kiwi.tokenize(\"분석 결과에서 불용어 제외입니당\")"
   ]
  },
  {
   "cell_type": "code",
   "execution_count": 19,
   "metadata": {},
   "outputs": [],
   "source": [
    "# 문장에서 형태소 추출해서 집어넣기\n",
    "sentence_token = []\n",
    "\n",
    "for i in range(len(tokens)):\n",
    "    sentence_token.append(tokens[i].form)"
   ]
  },
  {
   "cell_type": "code",
   "execution_count": 20,
   "metadata": {},
   "outputs": [
    {
     "data": {
      "text/plain": [
       "['분석', '결과', '에서', '불', '용어', '제외', '이', 'ᆸ니다', 'ᆼ']"
      ]
     },
     "execution_count": 20,
     "metadata": {},
     "output_type": "execute_result"
    }
   ],
   "source": [
    "sentence_token"
   ]
  },
  {
   "cell_type": "code",
   "execution_count": null,
   "metadata": {},
   "outputs": [],
   "source": []
  }
 ],
 "metadata": {
  "kernelspec": {
   "display_name": "sjr",
   "language": "python",
   "name": "python3"
  },
  "language_info": {
   "codemirror_mode": {
    "name": "ipython",
    "version": 3
   },
   "file_extension": ".py",
   "mimetype": "text/x-python",
   "name": "python",
   "nbconvert_exporter": "python",
   "pygments_lexer": "ipython3",
   "version": "3.8.16"
  },
  "orig_nbformat": 4
 },
 "nbformat": 4,
 "nbformat_minor": 2
}
