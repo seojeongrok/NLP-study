{
 "cells": [
  {
   "attachments": {},
   "cell_type": "markdown",
   "metadata": {},
   "source": [
    "# 챗봇 만들기(Slot 구성 및 출력)"
   ]
  },
  {
   "cell_type": "code",
   "execution_count": 52,
   "metadata": {},
   "outputs": [],
   "source": [
    "input_data = \"판교에 햄버거를 지금 주문잡아줘\"\n",
    "\n",
    "output_data = \"\"\n",
    "\n",
    "# 챗봇에서 서버와 주고 받을 API format\n",
    "request = {\n",
    "        \"intent_id\" : \"\",\n",
    "        \"input_data\" : input_data,\n",
    "        \"request_type\" : \"text\",\n",
    "        \"story_slot_entity\" : {},\n",
    "        \"output_data\" : output_data\n",
    "}"
   ]
  },
  {
   "attachments": {},
   "cell_type": "markdown",
   "metadata": {},
   "source": [
    "# 기본 DATA SET (DB)"
   ]
  },
  {
   "cell_type": "code",
   "execution_count": 53,
   "metadata": {},
   "outputs": [],
   "source": [
    "# 향후 의도 구분을 위한 학습 data로 사용\n",
    "intent_list = {\n",
    "                \"주문\": [\"주문\", \"배달\"],\n",
    "                \"예약\": [\"예약\", \"잡아줘\"],\n",
    "                \"정보\": [\"정보\", \"알려줘\"]\n",
    "}\n",
    "\n",
    "# 각 의도별 slot 구성\n",
    "story_slot_entity = {\n",
    "                        \"주문\": {\"메뉴\": None, \"장소\": None, \"날짜\": None},\n",
    "                        \"예약\": {\"장소\": None, \"날짜\": None},\n",
    "                        \"정보\": {\"장소\": None}\n",
    "}"
   ]
  },
  {
   "attachments": {},
   "cell_type": "markdown",
   "metadata": {},
   "source": [
    "# 형태소 분석"
   ]
  },
  {
   "cell_type": "code",
   "execution_count": 54,
   "metadata": {},
   "outputs": [],
   "source": [
    "#형태소 분석 mecab사용\n",
    "from konlpy.tag import Okt\n",
    "okt = Okt() #고유명사는 별도 NNP 등록\n",
    "preprocessed = okt.pos(input_data)\n"
   ]
  },
  {
   "cell_type": "code",
   "execution_count": 55,
   "metadata": {},
   "outputs": [
    {
     "data": {
      "text/plain": [
       "[('판교', 'Noun'),\n",
       " ('에', 'Josa'),\n",
       " ('햄버거', 'Noun'),\n",
       " ('를', 'Josa'),\n",
       " ('지금', 'Noun'),\n",
       " ('주문', 'Noun'),\n",
       " ('잡아줘', 'Verb')]"
      ]
     },
     "execution_count": 55,
     "metadata": {},
     "output_type": "execute_result"
    }
   ],
   "source": [
    "preprocessed"
   ]
  },
  {
   "cell_type": "code",
   "execution_count": 61,
   "metadata": {},
   "outputs": [],
   "source": [
    "key_verb = []\n",
    "\n",
    "for pos_tag in preprocessed:\n",
    "    if pos_tag[1] == \"Verb\":\n",
    "        key_verb.append(pos_tag[0])"
   ]
  },
  {
   "cell_type": "code",
   "execution_count": 62,
   "metadata": {},
   "outputs": [
    {
     "data": {
      "text/plain": [
       "['잡아줘']"
      ]
     },
     "execution_count": 62,
     "metadata": {},
     "output_type": "execute_result"
    }
   ],
   "source": [
    "key_verb"
   ]
  },
  {
   "cell_type": "code",
   "execution_count": 63,
   "metadata": {},
   "outputs": [],
   "source": [
    "intent_id = key_verb[0]\n",
    "slot_value = story_slot_entity.get(intent_id)\n"
   ]
  },
  {
   "cell_type": "code",
   "execution_count": 64,
   "metadata": {},
   "outputs": [],
   "source": [
    "menu_list = ['피자','햄버거','치킨']\n",
    "loc_list = ['판교','야탑','서현']\n",
    "date_list = ['지금','내일','모래']"
   ]
  },
  {
   "cell_type": "code",
   "execution_count": 65,
   "metadata": {},
   "outputs": [
    {
     "ename": "TypeError",
     "evalue": "'NoneType' object does not support item assignment",
     "output_type": "error",
     "traceback": [
      "\u001b[0;31m---------------------------------------------------------------------------\u001b[0m",
      "\u001b[0;31mTypeError\u001b[0m                                 Traceback (most recent call last)",
      "Cell \u001b[0;32mIn[65], line 7\u001b[0m\n\u001b[1;32m      5\u001b[0m     slot_value[\u001b[39m\"\u001b[39m\u001b[39m메뉴\u001b[39m\u001b[39m\"\u001b[39m] \u001b[39m=\u001b[39m pos_tag[\u001b[39m0\u001b[39m] \n\u001b[1;32m      6\u001b[0m \u001b[39melif\u001b[39;00m pos_tag[\u001b[39m0\u001b[39m] \u001b[39min\u001b[39;00m loc_list: \u001b[39m#메뉴 List 에서 검색\u001b[39;00m\n\u001b[0;32m----> 7\u001b[0m     slot_value[\u001b[39m\"\u001b[39;49m\u001b[39m장소\u001b[39;49m\u001b[39m\"\u001b[39;49m] \u001b[39m=\u001b[39m pos_tag[\u001b[39m0\u001b[39m] \n\u001b[1;32m      8\u001b[0m \u001b[39melif\u001b[39;00m pos_tag[\u001b[39m0\u001b[39m] \u001b[39min\u001b[39;00m date_list: \u001b[39m#메뉴 List 에서 검색\u001b[39;00m\n\u001b[1;32m      9\u001b[0m     slot_value[\u001b[39m\"\u001b[39m\u001b[39m날짜\u001b[39m\u001b[39m\"\u001b[39m] \u001b[39m=\u001b[39m pos_tag[\u001b[39m0\u001b[39m] \n",
      "\u001b[0;31mTypeError\u001b[0m: 'NoneType' object does not support item assignment"
     ]
    }
   ],
   "source": [
    "#전처리 로직으로 문장내 연관 단어만 도출(조사, 마침표제거등)\n",
    "for pos_tag in preprocessed:\n",
    "    if (pos_tag[1] in ['Noun']): #명사, 영어만 사용\n",
    "        if pos_tag[0] in menu_list: #메뉴 List 에서 검색\n",
    "            slot_value[\"메뉴\"] = pos_tag[0] \n",
    "        elif pos_tag[0] in loc_list: #메뉴 List 에서 검색\n",
    "            slot_value[\"장소\"] = pos_tag[0] \n",
    "        elif pos_tag[0] in date_list: #메뉴 List 에서 검색\n",
    "            slot_value[\"날짜\"] = pos_tag[0] "
   ]
  },
  {
   "cell_type": "code",
   "execution_count": 60,
   "metadata": {},
   "outputs": [
    {
     "data": {
      "text/plain": [
       "{'주문': {'메뉴': None, '장소': None, '날짜': None},\n",
       " '예약': {'장소': '판교', '날짜': '지금', '메뉴': '햄버거'},\n",
       " '정보': {'장소': None}}"
      ]
     },
     "execution_count": 60,
     "metadata": {},
     "output_type": "execute_result"
    }
   ],
   "source": [
    "story_slot_entity"
   ]
  },
  {
   "cell_type": "code",
   "execution_count": 47,
   "metadata": {},
   "outputs": [
    {
     "data": {
      "text/plain": [
       "{'메뉴': '햄버거', '장소': '판교', '날짜': '지금'}"
      ]
     },
     "execution_count": 47,
     "metadata": {},
     "output_type": "execute_result"
    }
   ],
   "source": [
    "slot_value"
   ]
  },
  {
   "cell_type": "code",
   "execution_count": 48,
   "metadata": {},
   "outputs": [],
   "source": [
    "# 빈 slot 출력\n",
    "if slot_value.values():\n",
    "    key_values = \"\"\n",
    "    for key in slot_value.keys():\n",
    "        key_values = key_values + key + \",\"\n",
    "    output_data = key_values + '선택해주세요'\n",
    "else:\n",
    "    output_data = \"주문이 완료 되었습니다.\""
   ]
  },
  {
   "cell_type": "code",
   "execution_count": 49,
   "metadata": {},
   "outputs": [
    {
     "data": {
      "text/plain": [
       "'메뉴,장소,날짜,선택해주세요'"
      ]
     },
     "execution_count": 49,
     "metadata": {},
     "output_type": "execute_result"
    }
   ],
   "source": [
    "output_data"
   ]
  },
  {
   "cell_type": "code",
   "execution_count": 50,
   "metadata": {},
   "outputs": [],
   "source": [
    "response = {\n",
    "            \"intent_id\" : \"\",\n",
    "            \"input_data\":input_data, \n",
    "            \"request_type\" : \"text\",\n",
    "            \"story_slot_entity\" : story_slot_entity,\n",
    "            \"output_data\" : \"\"\n",
    "          }\n",
    "response[\"output_data\"]= output_data\n"
   ]
  },
  {
   "cell_type": "code",
   "execution_count": 51,
   "metadata": {},
   "outputs": [
    {
     "data": {
      "text/plain": [
       "{'intent_id': '',\n",
       " 'input_data': '판교에 햄버거를 지금 주문잡아줘',\n",
       " 'request_type': 'text',\n",
       " 'story_slot_entity': {'주문': {'메뉴': '햄버거', '장소': '판교', '날짜': '지금'},\n",
       "  '예약': {'장소': None, '날짜': None},\n",
       "  '정보': {'장소': None}},\n",
       " 'output_data': '메뉴,장소,날짜,선택해주세요'}"
      ]
     },
     "execution_count": 51,
     "metadata": {},
     "output_type": "execute_result"
    }
   ],
   "source": [
    "response"
   ]
  },
  {
   "cell_type": "code",
   "execution_count": null,
   "metadata": {},
   "outputs": [],
   "source": []
  }
 ],
 "metadata": {
  "kernelspec": {
   "display_name": "sjr",
   "language": "python",
   "name": "python3"
  },
  "language_info": {
   "codemirror_mode": {
    "name": "ipython",
    "version": 3
   },
   "file_extension": ".py",
   "mimetype": "text/x-python",
   "name": "python",
   "nbconvert_exporter": "python",
   "pygments_lexer": "ipython3",
   "version": "3.8.16"
  },
  "orig_nbformat": 4
 },
 "nbformat": 4,
 "nbformat_minor": 2
}
