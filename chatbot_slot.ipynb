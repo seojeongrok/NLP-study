{
 "cells": [
  {
   "attachments": {},
   "cell_type": "markdown",
   "metadata": {},
   "source": [
    "# 챗봇 만들기(Slot 구성 및 출력)"
   ]
  },
  {
   "cell_type": "code",
   "execution_count": 1,
   "metadata": {},
   "outputs": [],
   "source": [
    "input_data = \"판교에 지금 주문해줘\"\n",
    "\n",
    "output_data = \"\"\n",
    "\n",
    "# 챗봇에서 서버와 주고 받을 API format\n",
    "request = {\n",
    "        \"intent_id\" : \"\",\n",
    "        \"input_data\" : input_data,\n",
    "        \"request_type\" : \"text\",\n",
    "        \"story_slot_entity\" : {},\n",
    "        \"output_data\" : output_data\n",
    "}"
   ]
  },
  {
   "cell_type": "code",
   "execution_count": null,
   "metadata": {},
   "outputs": [],
   "source": [
    "# 기본 Data Set(DB)\n"
   ]
  }
 ],
 "metadata": {
  "kernelspec": {
   "display_name": "sjr",
   "language": "python",
   "name": "python3"
  },
  "language_info": {
   "codemirror_mode": {
    "name": "ipython",
    "version": 3
   },
   "file_extension": ".py",
   "mimetype": "text/x-python",
   "name": "python",
   "nbconvert_exporter": "python",
   "pygments_lexer": "ipython3",
   "version": "3.8.16"
  },
  "orig_nbformat": 4
 },
 "nbformat": 4,
 "nbformat_minor": 2
}
